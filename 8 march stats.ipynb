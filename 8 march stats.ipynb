{
 "cells": [
  {
   "cell_type": "markdown",
   "id": "edbf3cf1-b707-4dd0-8f7c-76387c7842af",
   "metadata": {},
   "source": [
    "Q1)"
   ]
  },
  {
   "cell_type": "markdown",
   "id": "7eed88cd-9634-4193-ac86-2bb484d63540",
   "metadata": {},
   "source": [
    "Probability density function (PDF) is a function that describes the probability distribution of a continuous random variable. In other words, it is a function that specifies the relative likelihood of observing a particular value of the random variable. The PDF is often denoted by f(x) and is defined as the derivative of the cumulative distribution function (CDF) of the random variable.\n",
    "\n",
    "The PDF of a continuous random variable is non-negative for all values of the variable, and the area under the curve of the PDF over the entire range of the variable is equal to 1. This means that the total probability of observing any value of the variable is equal to 1.\n",
    "\n",
    "The PDF is used in many areas of probability and statistics, including hypothesis testing, estimation, and modeling. It provides a powerful tool for understanding the behavior of random variables and the probability distribution of their outcomes."
   ]
  },
  {
   "cell_type": "markdown",
   "id": "665b303e-75c7-4aa8-8dd4-962e152f7d74",
   "metadata": {},
   "source": [
    "Q2)"
   ]
  },
  {
   "cell_type": "markdown",
   "id": "0b69cc04-ae54-4582-9593-aedc4cb024d3",
   "metadata": {},
   "source": [
    "There are many types of probability distributions, but some of the most commonly used ones are:\n",
    "\n",
    "Binomial Distribution: This distribution describes the probability of obtaining a certain number of successes in a fixed number of independent trials. It is often used in applications such as quality control, where the number of defective products in a batch is counted.\n",
    "Normal Distribution: Also known as the Gaussian distribution, this is a continuous probability distribution that is often used to model real-world phenomena such as height, weight, and IQ scores. The normal distribution is symmetric, bell-shaped, and characterized by two parameters, the mean and standard deviation.\n",
    "Poisson Distribution: This distribution describes the probability of a certain number of events occurring in a fixed interval of time or space. It is often used to model rare events, such as the number of accidents in a day or the number of phone calls received in an hour.\n",
    "Exponential Distribution: This distribution describes the probability of the time between two consecutive events occurring in a Poisson process. It is often used in reliability analysis to model the time to failure of a system.\n",
    "Uniform Distribution: This distribution describes the probability of obtaining any value within a certain range, with all values being equally likely. It is often used in simulations and modeling where all possible outcomes are equally likely."
   ]
  },
  {
   "cell_type": "markdown",
   "id": "9f54f975-380d-44ac-93cc-79314229f884",
   "metadata": {},
   "source": [
    "Q3)"
   ]
  },
  {
   "cell_type": "code",
   "execution_count": 1,
   "id": "6f22a51d-e6ec-4902-b170-8207b5f20e3a",
   "metadata": {},
   "outputs": [
    {
     "name": "stdout",
     "output_type": "stream",
     "text": [
      "0.01752830049356854\n"
     ]
    }
   ],
   "source": [
    "import math\n",
    "\n",
    "def normal_pdf(x, mean, sd):\n",
    "    \"\"\"\n",
    "    Calculate the probability density function (PDF) of a normal distribution with given mean and standard deviation at a given point.\n",
    "\n",
    "    Args:\n",
    "    x (float): The point at which the PDF is to be calculated.\n",
    "    mean (float): The mean of the normal distribution.\n",
    "    sd (float): The standard deviation of the normal distribution.\n",
    "\n",
    "    Returns:\n",
    "    float: The value of the PDF at the given point.\n",
    "    \"\"\"\n",
    "    exponent = -(x-mean)**2 / (2 * sd**2)\n",
    "    denominator = sd * math.sqrt(2 * math.pi)\n",
    "    return (1/denominator) * math.exp(exponent)\n",
    "x = 2.5\n",
    "mean = 0\n",
    "sd = 1\n",
    "pdf = normal_pdf(x, mean, sd)\n",
    "print(pdf)"
   ]
  },
  {
   "cell_type": "markdown",
   "id": "a41ea485-5085-4ba1-9a69-05190e2fe244",
   "metadata": {},
   "source": [
    "Q4)"
   ]
  },
  {
   "cell_type": "markdown",
   "id": "794b39df-5030-436f-ac63-c5dd454147e2",
   "metadata": {},
   "source": [
    "The binomial distribution has the following properties:\n",
    "\n",
    "The number of trials, n, is fixed.\n",
    "Each trial has only two possible outcomes, usually referred to as success and failure.\n",
    "The probability of success, p, is constant for each trial.\n",
    "The trials are independent of each other.\n",
    "Two examples of events where the binomial distribution can be applied are:\n",
    "\n",
    "Tossing a coin: Suppose you toss a coin 10 times and want to know the probability of getting exactly 6 heads. This is an example of a binomial distribution, where the number of trials is fixed (10), the outcome of each trial is either heads or tails, the probability of getting heads is constant (0.5), and the trials are independent of each other.\n",
    "\n",
    "Quality control: Suppose a factory produces light bulbs, and 10% of the bulbs are defective. If a sample of 20 bulbs is randomly selected, what is the probability that exactly 3 of them are defective? This is also an example of a binomial distribution, where the number of trials is fixed (20), the outcome of each trial is either defective or non-defective, the probability of a bulb being defective is constant (0.1), and the trials are independent of each other"
   ]
  },
  {
   "cell_type": "markdown",
   "id": "d1d467f0-aa5c-4fda-965d-7830f28dd225",
   "metadata": {},
   "source": [
    "Q5)"
   ]
  },
  {
   "cell_type": "code",
   "execution_count": 2,
   "id": "451863d0-5f78-4116-9653-645a8e6de576",
   "metadata": {},
   "outputs": [
    {
     "data": {
      "image/png": "[encoded data removed]",
      "text/plain": [
       "<Figure size 640x480 with 1 Axes>"
      ]
     },
     "metadata": {},
     "output_type": "display_data"
    }
   ],
   "source": [
    "import numpy as np\n",
    "import matplotlib.pyplot as plt\n",
    "\n",
    "# Set the parameters\n",
    "n = 1000 # sample size\n",
    "p = 0.4 # probability of success\n",
    "\n",
    "# Generate the random sample\n",
    "sample = np.random.binomial(n, p, size=n)\n",
    "\n",
    "# Plot the histogram\n",
    "plt.hist(sample, bins=20, alpha=0.5)\n",
    "plt.xlabel('Number of successes')\n",
    "plt.ylabel('Frequency')\n",
    "plt.title('Binomial Distribution Histogram')\n",
    "plt.show()"
   ]
  },
  {
   "cell_type": "markdown",
   "id": "b561c4c2-c0f4-4f22-a9d4-68e2c0f091b6",
   "metadata": {},
   "source": [
    "Q6)"
   ]
  },
  {
   "cell_type": "code",
   "execution_count": 3,
   "id": "3152bc5d-2860-44a1-993a-49115df0ed1f",
   "metadata": {},
   "outputs": [
    {
     "name": "stdout",
     "output_type": "stream",
     "text": [
      "0.7575761331330659\n"
     ]
    }
   ],
   "source": [
    "import math\n",
    "\n",
    "def poisson_cdf(k, mean):\n",
    "    \"\"\"\n",
    "    Calculate the cumulative distribution function (CDF) of a Poisson distribution with a given mean at a given point.\n",
    "\n",
    "    Args:\n",
    "    k (int): The point at which the CDF is to be calculated.\n",
    "    mean (float): The mean of the Poisson distribution.\n",
    "\n",
    "    Returns:\n",
    "    float: The value of the CDF at the given point.\n",
    "    \"\"\"\n",
    "    cdf = 0.0\n",
    "    for i in range(k+1):\n",
    "        cdf += math.exp(-mean) * mean**i / math.factorial(i)\n",
    "    return cdf\n",
    "k = 3\n",
    "mean = 2.5\n",
    "cdf = poisson_cdf(k, mean)\n",
    "print(cdf)"
   ]
  },
  {
   "cell_type": "markdown",
   "id": "c28ac1e5-2cc1-4507-a6a8-35b35af4d563",
   "metadata": {},
   "source": [
    "Q7)"
   ]
  },
  {
   "cell_type": "markdown",
   "id": "faa401af-11f5-4185-9195-d650d56224ad",
   "metadata": {},
   "source": [
    "The Binomial distribution and Poisson distribution are both probability distributions, but they are used to model different types of events.\n",
    "\n",
    "The main difference between Binomial and Poisson distributions is the type of event they model. The Binomial distribution models the number of successes in a fixed number of independent trials, where each trial has only two possible outcomes (success or failure). The Poisson distribution models the number of occurrences of a rare event in a fixed unit of time or space.\n",
    "\n",
    "Another difference is in the parameters used to describe the distributions. The Binomial distribution is described by the number of trials (n) and the probability ofsuccess (p), while the Poisson distribution is described by the rate of occurrence (λ).\n",
    "\n",
    "The shape of the distributions can also differ. The Binomial distribution is discrete, meaning it only takes on integer values, while the Poisson distribution is continuous and can take on any non-negative real value."
   ]
  },
  {
   "cell_type": "markdown",
   "id": "d082495d-b140-42ed-af25-3b61531bdbcb",
   "metadata": {},
   "source": [
    "Q8)"
   ]
  },
  {
   "cell_type": "code",
   "execution_count": 4,
   "id": "f58a856c-e16d-4a60-8bb9-a43c74f78b2b",
   "metadata": {},
   "outputs": [
    {
     "name": "stdout",
     "output_type": "stream",
     "text": [
      "Sample mean: 5.046\n",
      "Sample variance: 4.898782782782783\n"
     ]
    }
   ],
   "source": [
    "import numpy as np\n",
    "\n",
    "# Set the parameters\n",
    "n = 1000 # sample size\n",
    "mean = 5\n",
    "\n",
    "# Generate the random sample\n",
    "sample = np.random.poisson(mean, size=n)\n",
    "\n",
    "# Calculate the sample mean and variance\n",
    "sample_mean = np.mean(sample)\n",
    "sample_var = np.var(sample, ddof=1)\n",
    "\n",
    "# Print the results\n",
    "print(\"Sample mean:\", sample_mean)\n",
    "print(\"Sample variance:\", sample_var)"
   ]
  },
  {
   "cell_type": "markdown",
   "id": "1bafadb4-a366-4a19-ab7d-48e016af39df",
   "metadata": {},
   "source": [
    "Q9)"
   ]
  },
  {
   "cell_type": "code",
   "execution_count": null,
   "id": "3f1fb358-fde4-4e94-9012-48c835d66e55",
   "metadata": {},
   "outputs": [],
   "source": []
  }
 ],
 "metadata": {
  "kernelspec": {
   "display_name": "Python 3 (ipykernel)",
   "language": "python",
   "name": "python3"
  },
  "language_info": {
   "codemirror_mode": {
    "name": "ipython",
    "version": 3
   },
   "file_extension": ".py",
   "mimetype": "text/x-python",
   "name": "python",
   "nbconvert_exporter": "python",
   "pygments_lexer": "ipython3",
   "version": "3.10.8"
  }
 },
 "nbformat": 4,
 "nbformat_minor": 5
}
